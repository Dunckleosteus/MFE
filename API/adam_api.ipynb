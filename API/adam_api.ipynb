{
 "cells": [
  {
   "cell_type": "code",
   "execution_count": 44,
   "id": "e9674915-d5db-4a12-9e7f-a8a177b2ef8e",
   "metadata": {},
   "outputs": [],
   "source": [
    "import requests\n",
    "import json"
   ]
  },
  {
   "cell_type": "markdown",
   "id": "fb473230-3df4-407c-8211-84252bac10da",
   "metadata": {},
   "source": [
    "# Authentification"
   ]
  },
  {
   "cell_type": "code",
   "execution_count": 54,
   "id": "d8f72b52-7cb9-49da-8864-8446d48ccba8",
   "metadata": {
    "jp-MarkdownHeadingCollapsed": true
   },
   "outputs": [],
   "source": [
    "# path = \"https://catalogue.dataspace.copernicus.eu/odata/v1/Products?$filter=contains(Name,'S1A') and ContentDate/Start gt 2022-05-03T00:00:00.000Z and ContentDate/Start lt 2022-05-21T00:00:00.000Z\"\n",
    "\n",
    "path3 = \"https://catalogue.dataspace.copernicus.eu/odata/v1/Products?$filter=endswith(Name,'T150252')\" # query by name\n",
    "path2 = \"https://catalogue.dataspace.copernicus.eu/odata/v1/Products?$filter=Collection/Name eq 'SENTINEL-2' and ContentDate/Start gt 2022-05-03T00:00:00.000Z and ContentDate/Start lt 2022-05-03T00:11:00.000Z\"\n",
    "# path = 'https://scihub.copernicus.eu/maintenance.html'\n",
    "\n",
    "response = requests.get(path3, allow_redirects=False)\n",
    "#print(json.dumps(response.json(), indent=4))\n",
    "#print (response.content())"
   ]
  },
  {
   "cell_type": "code",
   "execution_count": null,
   "id": "6aa606dc-2a6f-4bae-abb8-f80337ce31a9",
   "metadata": {},
   "outputs": [],
   "source": [
    "# https://catalogue.dataspace.copernicus.eu/odata/v1/Products('S2A_MSIL2A_20170605T123311_N0208_R052_T28WEU_20221030T150252')/$value"
   ]
  },
  {
   "cell_type": "code",
   "execution_count": null,
   "id": "e9dacf8c-1ed4-44b2-ba6b-0599e5440710",
   "metadata": {},
   "outputs": [],
   "source": []
  },
  {
   "cell_type": "code",
   "execution_count": null,
   "id": "ccc623d9-ddbd-4e3d-a21a-e806c2051e47",
   "metadata": {},
   "outputs": [],
   "source": []
  }
 ],
 "metadata": {
  "kernelspec": {
   "display_name": "Python 3 (ipykernel)",
   "language": "python",
   "name": "python3"
  },
  "language_info": {
   "codemirror_mode": {
    "name": "ipython",
    "version": 3
   },
   "file_extension": ".py",
   "mimetype": "text/x-python",
   "name": "python",
   "nbconvert_exporter": "python",
   "pygments_lexer": "ipython3",
   "version": "3.9.18"
  }
 },
 "nbformat": 4,
 "nbformat_minor": 5
}
